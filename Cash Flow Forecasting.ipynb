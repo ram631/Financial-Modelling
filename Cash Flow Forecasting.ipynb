{
 "cells": [
  {
   "cell_type": "code",
   "execution_count": 1,
   "metadata": {},
   "outputs": [],
   "source": [
    "import numpy as np\n",
    "import pandas as pd\n",
    "from fbprophet import Prophet\n",
    "import itertools\n"
   ]
  },
  {
   "cell_type": "code",
   "execution_count": 2,
   "metadata": {},
   "outputs": [
    {
     "data": {
      "text/html": [
       "<div>\n",
       "<style scoped>\n",
       "    .dataframe tbody tr th:only-of-type {\n",
       "        vertical-align: middle;\n",
       "    }\n",
       "\n",
       "    .dataframe tbody tr th {\n",
       "        vertical-align: top;\n",
       "    }\n",
       "\n",
       "    .dataframe thead th {\n",
       "        text-align: right;\n",
       "    }\n",
       "</style>\n",
       "<table border=\"1\" class=\"dataframe\">\n",
       "  <thead>\n",
       "    <tr style=\"text-align: right;\">\n",
       "      <th></th>\n",
       "      <th>year</th>\n",
       "      <th>Inventories</th>\n",
       "      <th>profit</th>\n",
       "      <th>Receivables</th>\n",
       "      <th>ProvisonsCurrent</th>\n",
       "      <th>Payables</th>\n",
       "      <th>OtherCurrentLiabilities</th>\n",
       "      <th>ProfitSaleonIncome</th>\n",
       "      <th>Depreciation</th>\n",
       "      <th>OtherCurrentFinancialLiabilities</th>\n",
       "      <th>...</th>\n",
       "      <th>NonCurrentInvestments</th>\n",
       "      <th>InterestReceived</th>\n",
       "      <th>DividendReceived</th>\n",
       "      <th>OtherNonCurrentAssets</th>\n",
       "      <th>BorrowingsCurrent</th>\n",
       "      <th>BorrowingsNonCurrent</th>\n",
       "      <th>DividendPaid</th>\n",
       "      <th>OtherEquity</th>\n",
       "      <th>InterestPaid</th>\n",
       "      <th>TotalTaxExpense</th>\n",
       "    </tr>\n",
       "  </thead>\n",
       "  <tbody>\n",
       "    <tr>\n",
       "      <th>0</th>\n",
       "      <td>01/04/16</td>\n",
       "      <td>26380.0</td>\n",
       "      <td>22267.0</td>\n",
       "      <td>684.0</td>\n",
       "      <td>37.0</td>\n",
       "      <td>760.0</td>\n",
       "      <td>8334.0</td>\n",
       "      <td>54.0</td>\n",
       "      <td>1049.0</td>\n",
       "      <td>235.0</td>\n",
       "      <td>...</td>\n",
       "      <td>13500</td>\n",
       "      <td>67.0</td>\n",
       "      <td>8.0</td>\n",
       "      <td>3000</td>\n",
       "      <td>1049.0</td>\n",
       "      <td>55.0</td>\n",
       "      <td>1500</td>\n",
       "      <td>7500</td>\n",
       "      <td>1550</td>\n",
       "      <td>4000</td>\n",
       "    </tr>\n",
       "    <tr>\n",
       "      <th>1</th>\n",
       "      <td>01/07/16</td>\n",
       "      <td>26400.0</td>\n",
       "      <td>22250.0</td>\n",
       "      <td>700.0</td>\n",
       "      <td>35.0</td>\n",
       "      <td>750.0</td>\n",
       "      <td>8330.0</td>\n",
       "      <td>54.0</td>\n",
       "      <td>1040.0</td>\n",
       "      <td>235.0</td>\n",
       "      <td>...</td>\n",
       "      <td>13600</td>\n",
       "      <td>61.0</td>\n",
       "      <td>9.0</td>\n",
       "      <td>3200</td>\n",
       "      <td>1040.0</td>\n",
       "      <td>57.0</td>\n",
       "      <td>1510</td>\n",
       "      <td>7650</td>\n",
       "      <td>1600</td>\n",
       "      <td>4200</td>\n",
       "    </tr>\n",
       "    <tr>\n",
       "      <th>2</th>\n",
       "      <td>01/10/16</td>\n",
       "      <td>26370.0</td>\n",
       "      <td>22300.0</td>\n",
       "      <td>680.0</td>\n",
       "      <td>36.0</td>\n",
       "      <td>760.0</td>\n",
       "      <td>8331.0</td>\n",
       "      <td>54.0</td>\n",
       "      <td>1050.0</td>\n",
       "      <td>235.0</td>\n",
       "      <td>...</td>\n",
       "      <td>13700</td>\n",
       "      <td>-25.0</td>\n",
       "      <td>8.0</td>\n",
       "      <td>3250</td>\n",
       "      <td>1050.0</td>\n",
       "      <td>50.0</td>\n",
       "      <td>155</td>\n",
       "      <td>9000</td>\n",
       "      <td>1000</td>\n",
       "      <td>4400</td>\n",
       "    </tr>\n",
       "    <tr>\n",
       "      <th>3</th>\n",
       "      <td>01/01/17</td>\n",
       "      <td>26380.0</td>\n",
       "      <td>22267.0</td>\n",
       "      <td>684.0</td>\n",
       "      <td>37.0</td>\n",
       "      <td>760.0</td>\n",
       "      <td>8333.0</td>\n",
       "      <td>54.0</td>\n",
       "      <td>1049.0</td>\n",
       "      <td>235.0</td>\n",
       "      <td>...</td>\n",
       "      <td>13800</td>\n",
       "      <td>-24.0</td>\n",
       "      <td>9.0</td>\n",
       "      <td>3300</td>\n",
       "      <td>1049.0</td>\n",
       "      <td>55.0</td>\n",
       "      <td>1560</td>\n",
       "      <td>6500</td>\n",
       "      <td>500</td>\n",
       "      <td>4600</td>\n",
       "    </tr>\n",
       "    <tr>\n",
       "      <th>4</th>\n",
       "      <td>01/04/17</td>\n",
       "      <td>27861.0</td>\n",
       "      <td>24355.0</td>\n",
       "      <td>1988.0</td>\n",
       "      <td>9.0</td>\n",
       "      <td>1276.0</td>\n",
       "      <td>5004.0</td>\n",
       "      <td>64.0</td>\n",
       "      <td>990.0</td>\n",
       "      <td>3180.0</td>\n",
       "      <td>...</td>\n",
       "      <td>15000</td>\n",
       "      <td>-969.0</td>\n",
       "      <td>1700.0</td>\n",
       "      <td>3300</td>\n",
       "      <td>2000.0</td>\n",
       "      <td>66.0</td>\n",
       "      <td>1530</td>\n",
       "      <td>2000</td>\n",
       "      <td>350</td>\n",
       "      <td>5000</td>\n",
       "    </tr>\n",
       "    <tr>\n",
       "      <th>5</th>\n",
       "      <td>01/07/17</td>\n",
       "      <td>27870.0</td>\n",
       "      <td>24340.0</td>\n",
       "      <td>1980.0</td>\n",
       "      <td>9.0</td>\n",
       "      <td>1270.0</td>\n",
       "      <td>5000.0</td>\n",
       "      <td>64.0</td>\n",
       "      <td>995.0</td>\n",
       "      <td>3190.0</td>\n",
       "      <td>...</td>\n",
       "      <td>15200</td>\n",
       "      <td>-960.0</td>\n",
       "      <td>105.0</td>\n",
       "      <td>2350</td>\n",
       "      <td>2200.0</td>\n",
       "      <td>60.0</td>\n",
       "      <td>1520</td>\n",
       "      <td>500</td>\n",
       "      <td>300</td>\n",
       "      <td>5300</td>\n",
       "    </tr>\n",
       "    <tr>\n",
       "      <th>6</th>\n",
       "      <td>01/10/17</td>\n",
       "      <td>27867.0</td>\n",
       "      <td>24345.0</td>\n",
       "      <td>2000.0</td>\n",
       "      <td>10.0</td>\n",
       "      <td>1280.0</td>\n",
       "      <td>5001.0</td>\n",
       "      <td>64.0</td>\n",
       "      <td>990.0</td>\n",
       "      <td>3200.0</td>\n",
       "      <td>...</td>\n",
       "      <td>15400</td>\n",
       "      <td>-1000.0</td>\n",
       "      <td>1706.0</td>\n",
       "      <td>3400</td>\n",
       "      <td>2400.0</td>\n",
       "      <td>67.0</td>\n",
       "      <td>1550</td>\n",
       "      <td>1000</td>\n",
       "      <td>500</td>\n",
       "      <td>5600</td>\n",
       "    </tr>\n",
       "    <tr>\n",
       "      <th>7</th>\n",
       "      <td>01/01/18</td>\n",
       "      <td>27861.0</td>\n",
       "      <td>24355.0</td>\n",
       "      <td>1988.0</td>\n",
       "      <td>10.0</td>\n",
       "      <td>1276.0</td>\n",
       "      <td>5004.0</td>\n",
       "      <td>64.0</td>\n",
       "      <td>990.0</td>\n",
       "      <td>3180.0</td>\n",
       "      <td>...</td>\n",
       "      <td>15600</td>\n",
       "      <td>-940.0</td>\n",
       "      <td>1707.0</td>\n",
       "      <td>3450</td>\n",
       "      <td>2600.0</td>\n",
       "      <td>66.0</td>\n",
       "      <td>1560</td>\n",
       "      <td>500</td>\n",
       "      <td>1000</td>\n",
       "      <td>5900</td>\n",
       "    </tr>\n",
       "    <tr>\n",
       "      <th>8</th>\n",
       "      <td>01/04/18</td>\n",
       "      <td>27506.0</td>\n",
       "      <td>25716.0</td>\n",
       "      <td>592.0</td>\n",
       "      <td>19.0</td>\n",
       "      <td>1211.0</td>\n",
       "      <td>1321.0</td>\n",
       "      <td>363.0</td>\n",
       "      <td>788.0</td>\n",
       "      <td>3486.0</td>\n",
       "      <td>...</td>\n",
       "      <td>19000</td>\n",
       "      <td>332.0</td>\n",
       "      <td>1720.0</td>\n",
       "      <td>3450</td>\n",
       "      <td>3600.0</td>\n",
       "      <td>15000.0</td>\n",
       "      <td>1570</td>\n",
       "      <td>2000</td>\n",
       "      <td>1500</td>\n",
       "      <td>6000</td>\n",
       "    </tr>\n",
       "    <tr>\n",
       "      <th>9</th>\n",
       "      <td>01/07/18</td>\n",
       "      <td>27500.0</td>\n",
       "      <td>25720.0</td>\n",
       "      <td>590.0</td>\n",
       "      <td>20.0</td>\n",
       "      <td>1210.0</td>\n",
       "      <td>1320.0</td>\n",
       "      <td>363.0</td>\n",
       "      <td>790.0</td>\n",
       "      <td>3490.0</td>\n",
       "      <td>...</td>\n",
       "      <td>19300</td>\n",
       "      <td>370.0</td>\n",
       "      <td>1721.0</td>\n",
       "      <td>3500</td>\n",
       "      <td>3900.0</td>\n",
       "      <td>15300.0</td>\n",
       "      <td>1560</td>\n",
       "      <td>22000</td>\n",
       "      <td>1600</td>\n",
       "      <td>6200</td>\n",
       "    </tr>\n",
       "    <tr>\n",
       "      <th>10</th>\n",
       "      <td>01/10/18</td>\n",
       "      <td>27490.0</td>\n",
       "      <td>25700.0</td>\n",
       "      <td>592.0</td>\n",
       "      <td>19.0</td>\n",
       "      <td>1200.0</td>\n",
       "      <td>1322.0</td>\n",
       "      <td>363.0</td>\n",
       "      <td>788.0</td>\n",
       "      <td>3486.0</td>\n",
       "      <td>...</td>\n",
       "      <td>19600</td>\n",
       "      <td>325.0</td>\n",
       "      <td>1722.0</td>\n",
       "      <td>3550</td>\n",
       "      <td>4200.0</td>\n",
       "      <td>15600.0</td>\n",
       "      <td>1540</td>\n",
       "      <td>25000</td>\n",
       "      <td>1700</td>\n",
       "      <td>6400</td>\n",
       "    </tr>\n",
       "    <tr>\n",
       "      <th>11</th>\n",
       "      <td>01/01/19</td>\n",
       "      <td>27506.0</td>\n",
       "      <td>25716.0</td>\n",
       "      <td>592.0</td>\n",
       "      <td>19.0</td>\n",
       "      <td>1211.0</td>\n",
       "      <td>1327.0</td>\n",
       "      <td>363.0</td>\n",
       "      <td>788.0</td>\n",
       "      <td>3490.0</td>\n",
       "      <td>...</td>\n",
       "      <td>20000</td>\n",
       "      <td>385.0</td>\n",
       "      <td>1723.0</td>\n",
       "      <td>3600</td>\n",
       "      <td>4500.0</td>\n",
       "      <td>15900.0</td>\n",
       "      <td>1570</td>\n",
       "      <td>26900</td>\n",
       "      <td>1900</td>\n",
       "      <td>6600</td>\n",
       "    </tr>\n",
       "  </tbody>\n",
       "</table>\n",
       "<p>12 rows × 29 columns</p>\n",
       "</div>"
      ],
      "text/plain": [
       "        year  Inventories   profit  Receivables  ProvisonsCurrent  Payables  \\\n",
       "0   01/04/16      26380.0  22267.0        684.0              37.0     760.0   \n",
       "1   01/07/16      26400.0  22250.0        700.0              35.0     750.0   \n",
       "2   01/10/16      26370.0  22300.0        680.0              36.0     760.0   \n",
       "3   01/01/17      26380.0  22267.0        684.0              37.0     760.0   \n",
       "4   01/04/17      27861.0  24355.0       1988.0               9.0    1276.0   \n",
       "5   01/07/17      27870.0  24340.0       1980.0               9.0    1270.0   \n",
       "6   01/10/17      27867.0  24345.0       2000.0              10.0    1280.0   \n",
       "7   01/01/18      27861.0  24355.0       1988.0              10.0    1276.0   \n",
       "8   01/04/18      27506.0  25716.0        592.0              19.0    1211.0   \n",
       "9   01/07/18      27500.0  25720.0        590.0              20.0    1210.0   \n",
       "10  01/10/18      27490.0  25700.0        592.0              19.0    1200.0   \n",
       "11  01/01/19      27506.0  25716.0        592.0              19.0    1211.0   \n",
       "\n",
       "    OtherCurrentLiabilities  ProfitSaleonIncome  Depreciation  \\\n",
       "0                    8334.0                54.0        1049.0   \n",
       "1                    8330.0                54.0        1040.0   \n",
       "2                    8331.0                54.0        1050.0   \n",
       "3                    8333.0                54.0        1049.0   \n",
       "4                    5004.0                64.0         990.0   \n",
       "5                    5000.0                64.0         995.0   \n",
       "6                    5001.0                64.0         990.0   \n",
       "7                    5004.0                64.0         990.0   \n",
       "8                    1321.0               363.0         788.0   \n",
       "9                    1320.0               363.0         790.0   \n",
       "10                   1322.0               363.0         788.0   \n",
       "11                   1327.0               363.0         788.0   \n",
       "\n",
       "    OtherCurrentFinancialLiabilities  ...  NonCurrentInvestments  \\\n",
       "0                              235.0  ...                  13500   \n",
       "1                              235.0  ...                  13600   \n",
       "2                              235.0  ...                  13700   \n",
       "3                              235.0  ...                  13800   \n",
       "4                             3180.0  ...                  15000   \n",
       "5                             3190.0  ...                  15200   \n",
       "6                             3200.0  ...                  15400   \n",
       "7                             3180.0  ...                  15600   \n",
       "8                             3486.0  ...                  19000   \n",
       "9                             3490.0  ...                  19300   \n",
       "10                            3486.0  ...                  19600   \n",
       "11                            3490.0  ...                  20000   \n",
       "\n",
       "    InterestReceived  DividendReceived  OtherNonCurrentAssets  \\\n",
       "0               67.0               8.0                   3000   \n",
       "1               61.0               9.0                   3200   \n",
       "2              -25.0               8.0                   3250   \n",
       "3              -24.0               9.0                   3300   \n",
       "4             -969.0            1700.0                   3300   \n",
       "5             -960.0             105.0                   2350   \n",
       "6            -1000.0            1706.0                   3400   \n",
       "7             -940.0            1707.0                   3450   \n",
       "8              332.0            1720.0                   3450   \n",
       "9              370.0            1721.0                   3500   \n",
       "10             325.0            1722.0                   3550   \n",
       "11             385.0            1723.0                   3600   \n",
       "\n",
       "    BorrowingsCurrent  BorrowingsNonCurrent  DividendPaid  OtherEquity  \\\n",
       "0              1049.0                  55.0          1500         7500   \n",
       "1              1040.0                  57.0          1510         7650   \n",
       "2              1050.0                  50.0           155         9000   \n",
       "3              1049.0                  55.0          1560         6500   \n",
       "4              2000.0                  66.0          1530         2000   \n",
       "5              2200.0                  60.0          1520          500   \n",
       "6              2400.0                  67.0          1550         1000   \n",
       "7              2600.0                  66.0          1560          500   \n",
       "8              3600.0               15000.0          1570         2000   \n",
       "9              3900.0               15300.0          1560        22000   \n",
       "10             4200.0               15600.0          1540        25000   \n",
       "11             4500.0               15900.0          1570        26900   \n",
       "\n",
       "    InterestPaid  TotalTaxExpense  \n",
       "0           1550             4000  \n",
       "1           1600             4200  \n",
       "2           1000             4400  \n",
       "3            500             4600  \n",
       "4            350             5000  \n",
       "5            300             5300  \n",
       "6            500             5600  \n",
       "7           1000             5900  \n",
       "8           1500             6000  \n",
       "9           1600             6200  \n",
       "10          1700             6400  \n",
       "11          1900             6600  \n",
       "\n",
       "[12 rows x 29 columns]"
      ]
     },
     "execution_count": 2,
     "metadata": {},
     "output_type": "execute_result"
    }
   ],
   "source": [
    "cff = pd.read_csv('~/Downloads/cashflowtemplate.csv')\n",
    "cff"
   ]
  },
  {
   "cell_type": "code",
   "execution_count": 3,
   "metadata": {},
   "outputs": [
    {
     "data": {
      "text/plain": [
       "DatetimeIndex(['2016-03-31', '2016-06-30', '2016-09-30', '2016-12-31',\n",
       "               '2017-03-31', '2017-06-30', '2017-09-30', '2017-12-31',\n",
       "               '2018-03-31', '2018-06-30', '2018-09-30', '2018-12-31'],\n",
       "              dtype='datetime64[ns]', freq='3M')"
      ]
     },
     "execution_count": 3,
     "metadata": {},
     "output_type": "execute_result"
    }
   ],
   "source": [
    "idx = pd.date_range('03/31/2016', periods = 12, freq = '3M')\n",
    "idx"
   ]
  },
  {
   "cell_type": "code",
   "execution_count": 4,
   "metadata": {},
   "outputs": [],
   "source": [
    "cff['Year'] = idx"
   ]
  },
  {
   "cell_type": "code",
   "execution_count": 5,
   "metadata": {},
   "outputs": [],
   "source": [
    "def change(data):\n",
    "    x = pd.DataFrame()\n",
    "    x['year'] = data[data.columns[0]]\n",
    "    x[data.columns[1]] = data[data.columns[1]].diff(1).fillna(0)\n",
    "    return x"
   ]
  },
  {
   "cell_type": "code",
   "execution_count": 6,
   "metadata": {},
   "outputs": [],
   "source": [
    "def forecast1(data):\n",
    "    e2 = pd.DataFrame()\n",
    "    e2['ds'] = data[data.columns[0]]\n",
    "    e2['y'] = data[data.columns[1]]\n",
    "    m = Prophet()\n",
    "    m.fit(e2)\n",
    "    future = m.make_future_dataframe(periods = 2, freq='3M')\n",
    "    forecast = m.predict(future)\n",
    "    f = forecast['yhat'].tail(2)\n",
    "    return f"
   ]
  },
  {
   "cell_type": "code",
   "execution_count": 7,
   "metadata": {},
   "outputs": [],
   "source": [
    "def ins_o(o_ins_in1_m, o_ins_out1_m):\n",
    "    q1in1 = []\n",
    "    q1out1 = []\n",
    "    q2in1 = []\n",
    "    q2out1 = []\n",
    "    \n",
    "            \n",
    "    for f in o_ins_in1_m[::2]:\n",
    "        q1in1.append(f)\n",
    "        \n",
    "    for v in o_ins_in1_m[1::2]:\n",
    "        q2in1.append(v)\n",
    "            \n",
    "    for f in o_ins_out1_m[::2]:\n",
    "        q1out1.append(f)\n",
    "        \n",
    "    for v in o_ins_out1_m[1::2]:\n",
    "        q2out1.append(v)\n",
    "        \n",
    "   \n",
    "    q1in = sum(q1in1)\n",
    "    q2in = sum(q2in1)\n",
    "    q1out = sum(q1out1)\n",
    "    q2out = sum(q2out1)\n",
    "    \n",
    "    \n",
    "    ins1 = q1in - q1out\n",
    "    ins2 = q2in - q2out\n",
    "        \n",
    "    return ins1, ins2"
   ]
  },
  {
   "cell_type": "code",
   "execution_count": 8,
   "metadata": {},
   "outputs": [],
   "source": [
    "def ins(ins1_m):\n",
    "    q1ins1 = []\n",
    "    q2ins1 = []\n",
    "    \n",
    "            \n",
    "    for f in ins1_m[::2]:\n",
    "        q1ins1.append(f)\n",
    "        \n",
    "    for v in ins1_m[1::2]:\n",
    "        q2ins1.append(v)\n",
    "            \n",
    "   \n",
    "    q1ins = sum(q1ins1)\n",
    "    q2ins = sum(q2ins1)\n",
    "    \n",
    "    return q1ins, q2ins"
   ]
  },
  {
   "cell_type": "code",
   "execution_count": 9,
   "metadata": {},
   "outputs": [],
   "source": [
    "def in_out_o(asset, liability):\n",
    "    \n",
    "    q1in = []\n",
    "    q1out = []\n",
    "    q2in = []\n",
    "    q2out = []\n",
    "    q1in_f = []\n",
    "    q1out_f = []\n",
    "    q2in_f = []\n",
    "    q2out_f = []\n",
    "            \n",
    "            \n",
    "    for f in asset[::2]:\n",
    "        q1in.append(f)\n",
    "        \n",
    "    for v in asset[1::2]:\n",
    "        q2in.append(v)\n",
    "            \n",
    "    for f in liability[::2]:\n",
    "        q1out.append(f)\n",
    "        \n",
    "    for v in liability[1::2]:\n",
    "        q2out.append(v)\n",
    "        \n",
    "    for i in q1in:\n",
    "        if i > 0:\n",
    "            q1in_f.append(i)\n",
    "        else:\n",
    "            q1out_f.append(i)\n",
    "            \n",
    "    for j in q1out:\n",
    "        if j <= 0:\n",
    "            q1in_f.append(j)\n",
    "        else:\n",
    "            q1out_f.append(j)\n",
    "            \n",
    "    for i in q2in:\n",
    "        if i > 0:\n",
    "            q2in_f.append(i)\n",
    "        else:\n",
    "            q2out_f.append(i)\n",
    "            \n",
    "    for j in q2out:\n",
    "        if j <= 0:\n",
    "            q2in_f.append(j)\n",
    "        else:\n",
    "            q2out_f.append(j)\n",
    "        \n",
    "    q1in_a = [abs(x) for x in q1in_f]\n",
    "    q2in_a = [abs(x) for x in q2in_f]\n",
    "    q1out_a = [abs(x) for x in q1out_f]\n",
    "    q2out_a = [abs(x) for x in q2out_f]\n",
    "    \n",
    "    q1in_s = sum(q1in_a)\n",
    "    q2in_s = sum(q2in_a)\n",
    "    q1out_s = sum(q1out_a)\n",
    "    q2out_s = sum(q2out_a)\n",
    "    \n",
    "    \n",
    "    bs1 = q1in_s - q1out_s\n",
    "    bs2 = q2in_s - q2out_s\n",
    "        \n",
    "    return bs1, bs2"
   ]
  },
  {
   "cell_type": "code",
   "execution_count": 10,
   "metadata": {},
   "outputs": [],
   "source": [
    "def in_out_i(asset):\n",
    "    \n",
    "    q1ass = []\n",
    "    q2ass = []\n",
    "    q1in_f = []\n",
    "    q1out_f = []\n",
    "    q2in_f = []\n",
    "    q2out_f = []\n",
    "            \n",
    "            \n",
    "    for f in asset[::2]:\n",
    "        q1ass.append(f)\n",
    "        \n",
    "    for v in asset[1::2]:\n",
    "        q2ass.append(v)\n",
    "    \n",
    "    for i in q1ass:\n",
    "        if i < 0:\n",
    "            q1in_f.append(i)\n",
    "        else:\n",
    "            q1out_f.append(i)\n",
    "            \n",
    "    for i in q2ass:\n",
    "        if i < 0:\n",
    "            q2in_f.append(i)\n",
    "        else:\n",
    "            q2out_f.append(i)\n",
    "            \n",
    "        \n",
    "    q1in_a = [abs(x) for x in q1in_f]\n",
    "    q2in_a = [abs(x) for x in q2in_f]\n",
    "    q1out_a = [abs(x) for x in q1out_f]\n",
    "    q2out_a = [abs(x) for x in q2out_f]\n",
    "    \n",
    "    q1in_s = sum(q1in_a)\n",
    "    q2in_s = sum(q2in_a)\n",
    "    q1out_s = sum(q1out_a)\n",
    "    q2out_s = sum(q2out_a)\n",
    "    \n",
    "    \n",
    "    bs1 = q1in_s - q1out_s\n",
    "    bs2 = q2in_s - q2out_s\n",
    "        \n",
    "    return bs1, bs2"
   ]
  },
  {
   "cell_type": "code",
   "execution_count": 11,
   "metadata": {},
   "outputs": [],
   "source": [
    "def in_out_f(liability):\n",
    "    \n",
    "    q1lib = []\n",
    "    q2lib = []\n",
    "    q1in_f = []\n",
    "    q1out_f = []\n",
    "    q2in_f = []\n",
    "    q2out_f = []\n",
    "            \n",
    "            \n",
    "    for f in liability[::2]:\n",
    "        q1lib.append(f)\n",
    "        \n",
    "    for v in liability[1::2]:\n",
    "        q2lib.append(v)\n",
    "    \n",
    "    for i in q1lib:\n",
    "        if i > 0:\n",
    "            q1in_f.append(i)\n",
    "        else:\n",
    "            q1out_f.append(i)\n",
    "            \n",
    "    for i in q2lib:\n",
    "        if i < 0:\n",
    "            q2in_f.append(i)\n",
    "        else:\n",
    "            q2out_f.append(i)\n",
    "            \n",
    "        \n",
    "    q1in_a = [abs(x) for x in q1in_f]\n",
    "    q2in_a = [abs(x) for x in q2in_f]\n",
    "    q1out_a = [abs(x) for x in q1out_f]\n",
    "    q2out_a = [abs(x) for x in q2out_f]\n",
    "    \n",
    "    q1in_s = sum(q1in_a)\n",
    "    q2in_s = sum(q2in_a)\n",
    "    q1out_s = sum(q1out_a)\n",
    "    q2out_s = sum(q2out_a)\n",
    "    \n",
    "    \n",
    "    bs1 = q1in_s - q1out_s\n",
    "    bs2 = q2in_s - q2out_s\n",
    "        \n",
    "    return bs1, bs2"
   ]
  },
  {
   "cell_type": "code",
   "execution_count": 12,
   "metadata": {},
   "outputs": [],
   "source": [
    "def ocf (profit1, profit2, o1, o2, oi1, oi2, tax1, tax2):\n",
    "    a1 = o1 + oi1 + tax1\n",
    "    a2 = o2 + oi2 + tax2\n",
    "    \n",
    "    a1_a = abs(a1) \n",
    "    a2_a = abs(a2)\n",
    "    \n",
    "    oq1 = profit1 - a1_a\n",
    "    oq2 = profit2 - a2_a\n",
    "    \n",
    "    return oq1, oq2"
   ]
  },
  {
   "cell_type": "code",
   "execution_count": 13,
   "metadata": {},
   "outputs": [],
   "source": [
    "def icf(i1, i2, ii1, ii2):\n",
    "    iq1 = i1 + ii1\n",
    "    iq2 = i2 + ii2\n",
    "\n",
    "    return iq1, iq2"
   ]
  },
  {
   "cell_type": "code",
   "execution_count": 14,
   "metadata": {},
   "outputs": [],
   "source": [
    "def fcf(f1, f2, fi1, fi2):\n",
    "    fq1 = f1 - fi1\n",
    "    fq2 = f2 - fi2\n",
    "\n",
    "    return fq1, fq2"
   ]
  },
  {
   "cell_type": "code",
   "execution_count": 15,
   "metadata": {},
   "outputs": [],
   "source": [
    "def nc(oq1, oq2, iq1, iq2, fq1, fq2):\n",
    "    ncq1 = oq1 + iq1 + fq1\n",
    "    ncq2 = oq2 + iq2 + fq2\n",
    "    \n",
    "    return ncq1, ncq2"
   ]
  },
  {
   "cell_type": "markdown",
   "metadata": {},
   "source": [
    "# Operating Cash Flow"
   ]
  },
  {
   "cell_type": "code",
   "execution_count": 16,
   "metadata": {},
   "outputs": [],
   "source": [
    "inv = cff[['Year', 'Inventories']]\n",
    "rec = cff[['Year', 'Receivables']]\n",
    "pay = cff[['Year', 'Payables']]\n",
    "ocl = cff[['Year', 'OtherCurrentLiabilities']]\n",
    "ii = cff[['Year', 'InterestIncome']]\n",
    "ie = cff[['Year', 'InterestExpense']] \n",
    "di = cff[['Year', 'DividendIncome']]\n",
    "psi = cff[['Year', 'ProfitSaleonIncome']] \n",
    "dep = cff[['Year', 'Depreciation']]\n",
    "ofl = cff[['Year', 'OtherCurrentFinancialLiabilities']]\n",
    "ofa = cff[['Year', 'OtherCurrentFinancialAssets']]\n",
    "pro = cff[['Year', 'ProvisonsCurrent']]\n",
    "profit = cff[['Year', 'profit']]\n",
    "tax = cff[['Year', 'TotalTaxExpense']]\n",
    "\n",
    "o_ass = [inv, rec, ofa]\n",
    "o_lib = [pay, ocl, ofl, pro]\n",
    "o_ins_in = [dep, ie]\n",
    "o_ins_out = [ii, di, psi]\n"
   ]
  },
  {
   "cell_type": "code",
   "execution_count": 17,
   "metadata": {
    "scrolled": true
   },
   "outputs": [],
   "source": [
    "o_ass_chage = []\n",
    "o_lib_chage = []\n",
    "\n",
    "for i in o_ass:\n",
    "    o_ass_chage.append(change(i))\n",
    "    \n",
    "for i in o_lib:\n",
    "    o_lib_chage.append(change(i))\n",
    "    "
   ]
  },
  {
   "cell_type": "code",
   "execution_count": 18,
   "metadata": {
    "scrolled": true
   },
   "outputs": [
    {
     "name": "stderr",
     "output_type": "stream",
     "text": [
      "/Users/ramakrishnareddych/anaconda3/lib/python3.5/site-packages/fbprophet/forecaster.py:794: FutureWarning: Series.nonzero() is deprecated and will be removed in a future version.Use Series.to_numpy().nonzero() instead\n",
      "  min_dt = dt.iloc[dt.nonzero()[0]].min()\n",
      "INFO:fbprophet.forecaster:Disabling weekly seasonality. Run prophet with weekly_seasonality=True to override this.\n",
      "INFO:fbprophet.forecaster:Disabling daily seasonality. Run prophet with daily_seasonality=True to override this.\n",
      "INFO:fbprophet.forecaster:n_changepoints greater than number of observations.Using 8.0.\n",
      "/Users/ramakrishnareddych/anaconda3/lib/python3.5/site-packages/fbprophet/forecaster.py:353: DeprecationWarning: object of type <class 'numpy.float64'> cannot be safely interpreted as an integer.\n",
      "  np.linspace(0, hist_size - 1, self.n_changepoints + 1)\n",
      "/Users/ramakrishnareddych/anaconda3/lib/python3.5/site-packages/pystan/misc.py:399: FutureWarning: Conversion of the second argument of issubdtype from `float` to `np.floating` is deprecated. In future, it will be treated as `np.float64 == np.dtype(float).type`.\n",
      "  elif np.issubdtype(np.asarray(v).dtype, float):\n",
      "INFO:fbprophet.forecaster:Disabling weekly seasonality. Run prophet with weekly_seasonality=True to override this.\n",
      "INFO:fbprophet.forecaster:Disabling daily seasonality. Run prophet with daily_seasonality=True to override this.\n",
      "INFO:fbprophet.forecaster:n_changepoints greater than number of observations.Using 8.0.\n",
      "INFO:fbprophet.forecaster:Disabling weekly seasonality. Run prophet with weekly_seasonality=True to override this.\n",
      "INFO:fbprophet.forecaster:Disabling daily seasonality. Run prophet with daily_seasonality=True to override this.\n",
      "INFO:fbprophet.forecaster:n_changepoints greater than number of observations.Using 8.0.\n",
      "INFO:fbprophet.forecaster:Disabling weekly seasonality. Run prophet with weekly_seasonality=True to override this.\n",
      "INFO:fbprophet.forecaster:Disabling daily seasonality. Run prophet with daily_seasonality=True to override this.\n",
      "INFO:fbprophet.forecaster:n_changepoints greater than number of observations.Using 8.0.\n",
      "INFO:fbprophet.forecaster:Disabling weekly seasonality. Run prophet with weekly_seasonality=True to override this.\n",
      "INFO:fbprophet.forecaster:Disabling daily seasonality. Run prophet with daily_seasonality=True to override this.\n",
      "INFO:fbprophet.forecaster:n_changepoints greater than number of observations.Using 8.0.\n",
      "INFO:fbprophet.forecaster:Disabling weekly seasonality. Run prophet with weekly_seasonality=True to override this.\n",
      "INFO:fbprophet.forecaster:Disabling daily seasonality. Run prophet with daily_seasonality=True to override this.\n",
      "INFO:fbprophet.forecaster:n_changepoints greater than number of observations.Using 8.0.\n",
      "INFO:fbprophet.forecaster:Disabling weekly seasonality. Run prophet with weekly_seasonality=True to override this.\n",
      "INFO:fbprophet.forecaster:Disabling daily seasonality. Run prophet with daily_seasonality=True to override this.\n",
      "INFO:fbprophet.forecaster:n_changepoints greater than number of observations.Using 8.0.\n",
      "INFO:fbprophet.forecaster:Disabling weekly seasonality. Run prophet with weekly_seasonality=True to override this.\n",
      "INFO:fbprophet.forecaster:Disabling daily seasonality. Run prophet with daily_seasonality=True to override this.\n",
      "INFO:fbprophet.forecaster:n_changepoints greater than number of observations.Using 8.0.\n",
      "INFO:fbprophet.forecaster:Disabling weekly seasonality. Run prophet with weekly_seasonality=True to override this.\n",
      "INFO:fbprophet.forecaster:Disabling daily seasonality. Run prophet with daily_seasonality=True to override this.\n",
      "INFO:fbprophet.forecaster:n_changepoints greater than number of observations.Using 8.0.\n",
      "INFO:fbprophet.forecaster:Disabling weekly seasonality. Run prophet with weekly_seasonality=True to override this.\n",
      "INFO:fbprophet.forecaster:Disabling daily seasonality. Run prophet with daily_seasonality=True to override this.\n",
      "INFO:fbprophet.forecaster:n_changepoints greater than number of observations.Using 8.0.\n",
      "INFO:fbprophet.forecaster:Disabling weekly seasonality. Run prophet with weekly_seasonality=True to override this.\n",
      "INFO:fbprophet.forecaster:Disabling daily seasonality. Run prophet with daily_seasonality=True to override this.\n",
      "INFO:fbprophet.forecaster:n_changepoints greater than number of observations.Using 8.0.\n",
      "INFO:fbprophet.forecaster:Disabling weekly seasonality. Run prophet with weekly_seasonality=True to override this.\n",
      "INFO:fbprophet.forecaster:Disabling daily seasonality. Run prophet with daily_seasonality=True to override this.\n",
      "INFO:fbprophet.forecaster:n_changepoints greater than number of observations.Using 8.0.\n",
      "INFO:fbprophet.forecaster:Disabling weekly seasonality. Run prophet with weekly_seasonality=True to override this.\n",
      "INFO:fbprophet.forecaster:Disabling daily seasonality. Run prophet with daily_seasonality=True to override this.\n",
      "INFO:fbprophet.forecaster:n_changepoints greater than number of observations.Using 8.0.\n",
      "INFO:fbprophet.forecaster:Disabling weekly seasonality. Run prophet with weekly_seasonality=True to override this.\n",
      "INFO:fbprophet.forecaster:Disabling daily seasonality. Run prophet with daily_seasonality=True to override this.\n",
      "INFO:fbprophet.forecaster:n_changepoints greater than number of observations.Using 8.0.\n"
     ]
    },
    {
     "data": {
      "text/plain": [
       "12    26621.637849\n",
       "13    26792.257650\n",
       "Name: yhat, dtype: float64"
      ]
     },
     "execution_count": 18,
     "metadata": {},
     "output_type": "execute_result"
    }
   ],
   "source": [
    "o_ass_forec = []\n",
    "o_lib_forec = []\n",
    "o_ins_in_forec = []\n",
    "o_ins_out_forec = []\n",
    "\n",
    "for i in o_ass_chage:\n",
    "    o_ass_forec.append((forecast1(i),i.columns[1]))\n",
    "\n",
    "for i in o_lib_chage:\n",
    "    o_lib_forec.append((forecast1(i),i.columns[1]))\n",
    "\n",
    "for i in o_ins_in:\n",
    "    o_ins_in_forec.append((forecast1(i),i.columns[1]))\n",
    "    \n",
    "for i in o_ins_out:\n",
    "    o_ins_out_forec.append((forecast1(i),i.columns[1])) \n",
    "    \n",
    "profit_forec = forecast1(profit)\n",
    "tax_forec = forecast1(tax)\n",
    "    \n",
    "profit_forec "
   ]
  },
  {
   "cell_type": "code",
   "execution_count": 19,
   "metadata": {},
   "outputs": [],
   "source": [
    "profit_l = profit_forec.to_list()\n",
    "tax_1 = tax_forec.tolist()\n",
    "\n",
    "inv1 = o_ass_forec[0][0].to_list()\n",
    "rec1 = o_ass_forec[1][0].to_list()\n",
    "ofa1 = o_ass_forec[2][0].to_list()\n",
    "\n",
    "pay1 = o_lib_forec[0][0].to_list()\n",
    "ocl1 = o_lib_forec[1][0].to_list()\n",
    "ofl1 = o_lib_forec[2][0].to_list()\n",
    "pro1 = o_lib_forec[3][0].to_list()\n",
    "\n",
    "dep1 = o_ins_in_forec[0][0].to_list()\n",
    "ie1 = o_ins_in_forec[1][0].to_list()\n",
    "\n",
    "ii1 = o_ins_out_forec[0][0].to_list()\n",
    "di1 = o_ins_out_forec[1][0].to_list()\n",
    "psi1 = o_ins_out_forec[0][0].to_list()\n",
    "\n",
    "\n",
    "o_ass1 = [inv1, rec1, ofa1]\n",
    "o_ass1_m = list(itertools.chain.from_iterable(o_ass1))\n",
    "\n",
    "o_lib1 = [pay1, ocl1, ofl1, pro1]\n",
    "o_lib1_m = list(itertools.chain.from_iterable(o_lib1))\n",
    "\n",
    "o_ins_in1 = [dep1, ie1]\n",
    "o_ins_in1_m = list(itertools.chain.from_iterable(o_ins_in1))\n",
    "\n",
    "o_ins_out1 = [ii1, di1, psi1]\n",
    "o_ins_out1_m = list(itertools.chain.from_iterable(o_ins_out1))\n"
   ]
  },
  {
   "cell_type": "code",
   "execution_count": 20,
   "metadata": {},
   "outputs": [
    {
     "name": "stdout",
     "output_type": "stream",
     "text": [
      "-3086.6346236248637 -2496.8333185122656\n"
     ]
    }
   ],
   "source": [
    "oi1, oi2 = ins_o(o_ins_in1_m, o_ins_out1_m)\n",
    "\n",
    "print(oi1, oi2)"
   ]
  },
  {
   "cell_type": "code",
   "execution_count": 21,
   "metadata": {},
   "outputs": [
    {
     "name": "stdout",
     "output_type": "stream",
     "text": [
      "1477.936169850188 239.11451736296743\n"
     ]
    }
   ],
   "source": [
    "o1, o2 = in_out_o(o_ass1_m, o_lib1_m)\n",
    "\n",
    "print(o1, o2)"
   ]
  },
  {
   "cell_type": "code",
   "execution_count": 22,
   "metadata": {},
   "outputs": [
    {
     "name": "stdout",
     "output_type": "stream",
     "text": [
      "21726.722765069673 22287.87809670325\n"
     ]
    }
   ],
   "source": [
    "oq1, oq2 = ocf(profit_l[0], profit_l[1],o1, o2, oi1, oi2, tax_1[0], tax_1[1])\n",
    "\n",
    "print(oq1, oq2)"
   ]
  },
  {
   "cell_type": "markdown",
   "metadata": {},
   "source": [
    "# Investing Cah Flow"
   ]
  },
  {
   "cell_type": "code",
   "execution_count": 23,
   "metadata": {},
   "outputs": [],
   "source": [
    "ppe = cff[['Year', 'ppe']]\n",
    "lon = cff[['Year', 'Loans']]\n",
    "oca = cff[['Year', 'OtherCurrentAssets']]\n",
    "ocna = cff[['Year', 'OtherNonCurrentAssets']]\n",
    "ip = cff[['Year', 'InvestmentProperty']]\n",
    "nci = cff[['Year', 'NonCurrentInvestments']]\n",
    "dr = cff[['Year', 'DividendReceived']]\n",
    "ir = cff[['Year', 'InterestReceived']]\n",
    "\n",
    "i_ins = [dr, ir]\n",
    "i_ass = [ppe, lon, oca, ocna, ip, nci]"
   ]
  },
  {
   "cell_type": "code",
   "execution_count": 24,
   "metadata": {},
   "outputs": [],
   "source": [
    "i_ass_chage = []\n",
    "\n",
    "for i in i_ass:\n",
    "    i_ass_chage.append(change(i))"
   ]
  },
  {
   "cell_type": "code",
   "execution_count": 25,
   "metadata": {
    "scrolled": true
   },
   "outputs": [
    {
     "name": "stderr",
     "output_type": "stream",
     "text": [
      "/Users/ramakrishnareddych/anaconda3/lib/python3.5/site-packages/fbprophet/forecaster.py:794: FutureWarning: Series.nonzero() is deprecated and will be removed in a future version.Use Series.to_numpy().nonzero() instead\n",
      "  min_dt = dt.iloc[dt.nonzero()[0]].min()\n",
      "INFO:fbprophet.forecaster:Disabling weekly seasonality. Run prophet with weekly_seasonality=True to override this.\n",
      "INFO:fbprophet.forecaster:Disabling daily seasonality. Run prophet with daily_seasonality=True to override this.\n",
      "INFO:fbprophet.forecaster:n_changepoints greater than number of observations.Using 8.0.\n",
      "/Users/ramakrishnareddych/anaconda3/lib/python3.5/site-packages/fbprophet/forecaster.py:353: DeprecationWarning: object of type <class 'numpy.float64'> cannot be safely interpreted as an integer.\n",
      "  np.linspace(0, hist_size - 1, self.n_changepoints + 1)\n",
      "/Users/ramakrishnareddych/anaconda3/lib/python3.5/site-packages/pystan/misc.py:399: FutureWarning: Conversion of the second argument of issubdtype from `float` to `np.floating` is deprecated. In future, it will be treated as `np.float64 == np.dtype(float).type`.\n",
      "  elif np.issubdtype(np.asarray(v).dtype, float):\n",
      "INFO:fbprophet.forecaster:Disabling weekly seasonality. Run prophet with weekly_seasonality=True to override this.\n",
      "INFO:fbprophet.forecaster:Disabling daily seasonality. Run prophet with daily_seasonality=True to override this.\n",
      "INFO:fbprophet.forecaster:n_changepoints greater than number of observations.Using 8.0.\n",
      "INFO:fbprophet.forecaster:Disabling weekly seasonality. Run prophet with weekly_seasonality=True to override this.\n",
      "INFO:fbprophet.forecaster:Disabling daily seasonality. Run prophet with daily_seasonality=True to override this.\n",
      "INFO:fbprophet.forecaster:n_changepoints greater than number of observations.Using 8.0.\n",
      "INFO:fbprophet.forecaster:Disabling weekly seasonality. Run prophet with weekly_seasonality=True to override this.\n",
      "INFO:fbprophet.forecaster:Disabling daily seasonality. Run prophet with daily_seasonality=True to override this.\n",
      "INFO:fbprophet.forecaster:n_changepoints greater than number of observations.Using 8.0.\n",
      "INFO:fbprophet.forecaster:Disabling weekly seasonality. Run prophet with weekly_seasonality=True to override this.\n",
      "INFO:fbprophet.forecaster:Disabling daily seasonality. Run prophet with daily_seasonality=True to override this.\n",
      "INFO:fbprophet.forecaster:n_changepoints greater than number of observations.Using 8.0.\n",
      "INFO:fbprophet.forecaster:Disabling weekly seasonality. Run prophet with weekly_seasonality=True to override this.\n",
      "INFO:fbprophet.forecaster:Disabling daily seasonality. Run prophet with daily_seasonality=True to override this.\n",
      "INFO:fbprophet.forecaster:n_changepoints greater than number of observations.Using 8.0.\n",
      "INFO:fbprophet.forecaster:Disabling weekly seasonality. Run prophet with weekly_seasonality=True to override this.\n",
      "INFO:fbprophet.forecaster:Disabling daily seasonality. Run prophet with daily_seasonality=True to override this.\n",
      "INFO:fbprophet.forecaster:n_changepoints greater than number of observations.Using 8.0.\n",
      "INFO:fbprophet.forecaster:Disabling weekly seasonality. Run prophet with weekly_seasonality=True to override this.\n",
      "INFO:fbprophet.forecaster:Disabling daily seasonality. Run prophet with daily_seasonality=True to override this.\n",
      "INFO:fbprophet.forecaster:n_changepoints greater than number of observations.Using 8.0.\n"
     ]
    }
   ],
   "source": [
    "i_ass_forec = []\n",
    "i_ins_forec = []\n",
    "\n",
    "for i in i_ass_chage:\n",
    "    i_ass_forec.append((forecast1(i),i.columns[1]))\n",
    "\n",
    "for i in i_ins:\n",
    "    i_ins_forec.append((forecast1(i),i.columns[1]))\n",
    "    "
   ]
  },
  {
   "cell_type": "code",
   "execution_count": 26,
   "metadata": {},
   "outputs": [],
   "source": [
    "ppe1 = i_ass_forec[0][0].to_list()\n",
    "lon1 = i_ass_forec[1][0].to_list()\n",
    "oca1 = i_ass_forec[2][0].to_list()\n",
    "ocna1 = i_ass_forec[3][0].to_list()\n",
    "ip1 = i_ass_forec[4][0].to_list()\n",
    "nci1 = i_ass_forec[5][0].to_list()\n",
    "\n",
    "dr1 = i_ins_forec[0][0].to_list()\n",
    "ir1 = i_ins_forec[1][0].to_list()\n",
    "\n",
    "i_ass1 = [ppe1, lon1, oca1, ocna1, ip1, nci1]\n",
    "i_ass1_m = list(itertools.chain.from_iterable(i_ass1))\n",
    "\n",
    "i_ins1 = [dr1, ir1]\n",
    "i_ins1_m = list(itertools.chain.from_iterable(i_ins1))\n"
   ]
  },
  {
   "cell_type": "code",
   "execution_count": 27,
   "metadata": {},
   "outputs": [
    {
     "name": "stdout",
     "output_type": "stream",
     "text": [
      "-22735.194066205728 -4295.19841187334\n"
     ]
    }
   ],
   "source": [
    "i1,i2 = in_out_i(i_ass1_m)\n",
    "\n",
    "print(i1,i2)"
   ]
  },
  {
   "cell_type": "code",
   "execution_count": 28,
   "metadata": {},
   "outputs": [
    {
     "name": "stdout",
     "output_type": "stream",
     "text": [
      "2369.9430523350543 1793.9993381527463\n"
     ]
    }
   ],
   "source": [
    "ii1,ii2 = ins(i_ins1_m)\n",
    "\n",
    "print(ii1,ii2)"
   ]
  },
  {
   "cell_type": "code",
   "execution_count": 29,
   "metadata": {},
   "outputs": [
    {
     "name": "stdout",
     "output_type": "stream",
     "text": [
      "-20365.251013870675 -2501.1990737205933\n"
     ]
    }
   ],
   "source": [
    "iq1, iq2 = icf(i1, i2, ii1, ii2)\n",
    "print(iq1, iq2)"
   ]
  },
  {
   "cell_type": "markdown",
   "metadata": {},
   "source": [
    "# Financing Cash Flow"
   ]
  },
  {
   "cell_type": "code",
   "execution_count": 30,
   "metadata": {},
   "outputs": [],
   "source": [
    "oe = cff[['Year', 'OtherEquity']]\n",
    "bc = cff[['Year', 'BorrowingsCurrent']]\n",
    "bnc = cff[['Year', 'BorrowingsNonCurrent']]\n",
    "dp = cff[['Year', 'DividendPaid']]\n",
    "ip = cff[['Year', 'InterestPaid']]\n",
    "\n",
    "f_ins = [dp, ip]\n",
    "f_lib = [oe, bc, bnc]"
   ]
  },
  {
   "cell_type": "code",
   "execution_count": 31,
   "metadata": {},
   "outputs": [],
   "source": [
    "f_lib_chage = []\n",
    "\n",
    "for i in f_lib:\n",
    "    f_lib_chage.append(change(i))"
   ]
  },
  {
   "cell_type": "code",
   "execution_count": 32,
   "metadata": {
    "scrolled": true
   },
   "outputs": [
    {
     "name": "stderr",
     "output_type": "stream",
     "text": [
      "/Users/ramakrishnareddych/anaconda3/lib/python3.5/site-packages/fbprophet/forecaster.py:794: FutureWarning: Series.nonzero() is deprecated and will be removed in a future version.Use Series.to_numpy().nonzero() instead\n",
      "  min_dt = dt.iloc[dt.nonzero()[0]].min()\n",
      "INFO:fbprophet.forecaster:Disabling weekly seasonality. Run prophet with weekly_seasonality=True to override this.\n",
      "INFO:fbprophet.forecaster:Disabling daily seasonality. Run prophet with daily_seasonality=True to override this.\n",
      "INFO:fbprophet.forecaster:n_changepoints greater than number of observations.Using 8.0.\n",
      "/Users/ramakrishnareddych/anaconda3/lib/python3.5/site-packages/fbprophet/forecaster.py:353: DeprecationWarning: object of type <class 'numpy.float64'> cannot be safely interpreted as an integer.\n",
      "  np.linspace(0, hist_size - 1, self.n_changepoints + 1)\n",
      "/Users/ramakrishnareddych/anaconda3/lib/python3.5/site-packages/pystan/misc.py:399: FutureWarning: Conversion of the second argument of issubdtype from `float` to `np.floating` is deprecated. In future, it will be treated as `np.float64 == np.dtype(float).type`.\n",
      "  elif np.issubdtype(np.asarray(v).dtype, float):\n",
      "INFO:fbprophet.forecaster:Disabling weekly seasonality. Run prophet with weekly_seasonality=True to override this.\n",
      "INFO:fbprophet.forecaster:Disabling daily seasonality. Run prophet with daily_seasonality=True to override this.\n",
      "INFO:fbprophet.forecaster:n_changepoints greater than number of observations.Using 8.0.\n",
      "INFO:fbprophet.forecaster:Disabling weekly seasonality. Run prophet with weekly_seasonality=True to override this.\n",
      "INFO:fbprophet.forecaster:Disabling daily seasonality. Run prophet with daily_seasonality=True to override this.\n",
      "INFO:fbprophet.forecaster:n_changepoints greater than number of observations.Using 8.0.\n",
      "INFO:fbprophet.forecaster:Disabling weekly seasonality. Run prophet with weekly_seasonality=True to override this.\n",
      "INFO:fbprophet.forecaster:Disabling daily seasonality. Run prophet with daily_seasonality=True to override this.\n",
      "INFO:fbprophet.forecaster:n_changepoints greater than number of observations.Using 8.0.\n",
      "INFO:fbprophet.forecaster:Disabling weekly seasonality. Run prophet with weekly_seasonality=True to override this.\n",
      "INFO:fbprophet.forecaster:Disabling daily seasonality. Run prophet with daily_seasonality=True to override this.\n",
      "INFO:fbprophet.forecaster:n_changepoints greater than number of observations.Using 8.0.\n"
     ]
    }
   ],
   "source": [
    "f_lib_forec = []\n",
    "f_ins_forec = []\n",
    "\n",
    "for i in f_lib_chage:\n",
    "    f_lib_forec.append((forecast1(i),i.columns[1]))\n",
    "\n",
    "for i in f_ins:\n",
    "    f_ins_forec.append((forecast1(i),i.columns[1]))\n"
   ]
  },
  {
   "cell_type": "code",
   "execution_count": 33,
   "metadata": {},
   "outputs": [],
   "source": [
    "oe1 = f_lib_forec[0][0].to_list()\n",
    "bc1 = f_lib_forec[1][0].to_list()\n",
    "bnc1 = f_lib_forec[2][0].to_list()\n",
    "\n",
    "dp1 = f_ins_forec[0][0].to_list()\n",
    "ip1 = f_ins_forec[1][0].to_list()\n",
    "\n",
    "f_lib1 = [oe1, bc1, bnc1]\n",
    "f_lib1_m = list(itertools.chain.from_iterable(f_lib1))\n",
    "\n",
    "f_ins1 = [dp1, ip1]\n",
    "f_ins1_m = list(itertools.chain.from_iterable(f_ins1))\n"
   ]
  },
  {
   "cell_type": "code",
   "execution_count": 34,
   "metadata": {},
   "outputs": [
    {
     "name": "stdout",
     "output_type": "stream",
     "text": [
      "8057.989082411553 -9738.754524387321\n"
     ]
    }
   ],
   "source": [
    "f1, f2 = in_out_f(f_lib1_m)\n",
    "\n",
    "print(f1, f2)"
   ]
  },
  {
   "cell_type": "code",
   "execution_count": 35,
   "metadata": {},
   "outputs": [
    {
     "name": "stdout",
     "output_type": "stream",
     "text": [
      "3065.0337512099086 3101.8911005955306\n"
     ]
    }
   ],
   "source": [
    "fi1, fi2 = ins(f_ins1_m)\n",
    "\n",
    "print(fi1, fi2)"
   ]
  },
  {
   "cell_type": "code",
   "execution_count": 36,
   "metadata": {},
   "outputs": [
    {
     "name": "stdout",
     "output_type": "stream",
     "text": [
      "4992.955331201644 -12840.645624982852\n"
     ]
    }
   ],
   "source": [
    "fq1, fq2 = fcf(f1, f2, fi1, fi2)\n",
    "\n",
    "print(fq1, fq2)"
   ]
  },
  {
   "cell_type": "markdown",
   "metadata": {},
   "source": [
    "# Net Cash"
   ]
  },
  {
   "cell_type": "code",
   "execution_count": 37,
   "metadata": {},
   "outputs": [
    {
     "name": "stdout",
     "output_type": "stream",
     "text": [
      "6354.427082400643 6946.033397999807\n"
     ]
    }
   ],
   "source": [
    "ncq1, ncq2 = nc(oq1, oq2, iq1, iq2, fq1, fq2)\n",
    "\n",
    "print(ncq1, ncq2)"
   ]
  },
  {
   "cell_type": "code",
   "execution_count": null,
   "metadata": {},
   "outputs": [],
   "source": []
  }
 ],
 "metadata": {
  "kernelspec": {
   "display_name": "Python 3",
   "language": "python",
   "name": "python3"
  },
  "language_info": {
   "codemirror_mode": {
    "name": "ipython",
    "version": 3
   },
   "file_extension": ".py",
   "mimetype": "text/x-python",
   "name": "python",
   "nbconvert_exporter": "python",
   "pygments_lexer": "ipython3",
   "version": "3.5.6"
  }
 },
 "nbformat": 4,
 "nbformat_minor": 2
}
